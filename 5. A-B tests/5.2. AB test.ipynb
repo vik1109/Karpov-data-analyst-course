{
 "cells": [
  {
   "cell_type": "markdown",
   "id": "c10a32cc-769f-4587-bfba-c49c01c6d323",
   "metadata": {},
   "source": [
    "# A/B тест"
   ]
  },
  {
   "cell_type": "markdown",
   "id": "7cc25553-60c4-4e2e-b762-ae5dbe7700d1",
   "metadata": {},
   "source": [
    "Эксперимент проходил с 2022-05-24 по 2022-05-30 включительно. Для эксперимента были задействованы 2 и 1 группы. \n",
    "\n",
    "В группе 2 был использован один из новых алгоритмов рекомендации постов, группа 1 использовалась в качестве контроля. \n",
    "\n",
    "Основная гипотеза заключается в том, что новый алгоритм во 2-й группе приведет к увеличению CTR. \n",
    "\n",
    "Ваша задача — проанализировать данные АB-теста. \n",
    "\n",
    "* Выбрать метод анализа и сравнить CTR в двух группах (мы разбирали t-тест, Пуассоновский бутстреп, тест Манна-Уитни, t-тест на сглаженном ctr (α=5) а также t-тест и тест Манна-Уитни поверх бакетного преобразования).\n",
    "* Сравните данные этими тестами. А еще посмотрите на распределения глазами. Почему тесты сработали так как сработали? \n",
    "* Опишите потенциальную ситуацию, когда такое изменение могло произойти.\n",
    "* Напишите рекомендацию, будем ли мы раскатывать новый алгоритм на всех новых пользователей или все-таки не стоит."
   ]
  },
  {
   "cell_type": "markdown",
   "id": "efd3bbf1-1a82-47d9-884b-7e8c23fb68c8",
   "metadata": {},
   "source": [
    "Импортируем библиотеки."
   ]
  },
  {
   "cell_type": "code",
   "execution_count": 1,
   "id": "8b0f7164-803b-4993-b072-08aa95c4d8e0",
   "metadata": {},
   "outputs": [],
   "source": [
    "#импорт библиотек\n",
    "import pandahouse\n",
    "import pandas as pd\n",
    "import seaborn as sns\n",
    "from scipy import stats\n",
    "import numpy as np"
   ]
  },
  {
   "cell_type": "markdown",
   "id": "af6d91f3-1242-4222-8e34-13d3871f47f9",
   "metadata": {},
   "source": [
    "Настроим подключение к ClickHouse"
   ]
  },
  {
   "cell_type": "code",
   "execution_count": 2,
   "id": "d7f42ff7-ed21-428d-b488-c62cd99ddb16",
   "metadata": {},
   "outputs": [],
   "source": [
    "#параметры соединения с clickhouse\n",
    "connection = {\n",
    "    'host': 'https://clickhouse.lab.karpov.courses',\n",
    "    'password': 'dpo_python_2020',\n",
    "    'user': 'student',\n",
    "    'database': 'simulator'\n",
    "}\n",
    "\n",
    "#SQL запрос \n",
    "q = \"\"\"SELECT exp_group, \n",
    "    user_id,\n",
    "    sum(action = 'like') as likes,\n",
    "    sum(action = 'view') as views,\n",
    "    likes/views as ctr\n",
    "FROM simulator_20220620.feed_actions \n",
    "WHERE toDate(time) between '2022-05-24' and '2022-05-30'\n",
    "    and exp_group in (1,2)\n",
    "GROUP BY exp_group, user_id\"\"\""
   ]
  },
  {
   "cell_type": "markdown",
   "id": "f256645d-f229-49de-bfda-df53eb177a3c",
   "metadata": {},
   "source": [
    "Создадим базу данных."
   ]
  },
  {
   "cell_type": "code",
   "execution_count": 3,
   "id": "eefff732-a46c-46bd-ae47-be8b32d6da84",
   "metadata": {},
   "outputs": [
    {
     "name": "stdout",
     "output_type": "stream",
     "text": [
      "   exp_group  user_id  likes  views       ctr\n",
      "0          1   109963      3     15  0.200000\n",
      "1          1    26117     32    141  0.226950\n",
      "2          1   138232     18     73  0.246575\n",
      "3          1    26295     33    122  0.270492\n",
      "4          1    18392      7     32  0.218750\n"
     ]
    }
   ],
   "source": [
    "#получение данных из clickhouse\n",
    "df = pandahouse.read_clickhouse(q, connection=connection)\n",
    "\n",
    "#вывод первых пяти строк данных\n",
    "print(df.head())"
   ]
  },
  {
   "cell_type": "markdown",
   "id": "8e763bbf-066a-4be7-b601-0e4e46c17929",
   "metadata": {},
   "source": [
    "## Гистограмма."
   ]
  },
  {
   "cell_type": "markdown",
   "id": "cb7fb559-7a04-410d-bd28-524d22df3642",
   "metadata": {},
   "source": [
    "Нарисуем гистограммы распределений."
   ]
  },
  {
   "cell_type": "code",
   "execution_count": 4,
   "id": "d9334d79-9775-474b-839b-95bfa1955a50",
   "metadata": {},
   "outputs": [
    {
     "data": {
      "image/png": "[encoded data removed]",
      "text/plain": [
       "<Figure size 842.4x595.44 with 1 Axes>"
      ]
     },
     "metadata": {},
     "output_type": "display_data"
    }
   ],
   "source": [
    "#установка размера гистограммы\n",
    "sns.set(rc={'figure.figsize':(11.7,8.27)})\n",
    "\n",
    "#отрисова гистограммы распределений ctr в группах 1 и 2\n",
    "groups = sns.histplot(data = df, \n",
    "              x='ctr', \n",
    "              hue='exp_group', \n",
    "              palette = ['r', 'b'],\n",
    "              alpha=0.5,\n",
    "              kde=False)"
   ]
  },
  {
   "cell_type": "markdown",
   "id": "6c870a87-a27c-40b6-add6-525c088b4f65",
   "metadata": {},
   "source": [
    "В контрольной группе 1 распределение CTR в целом достаточно сильно похоже на нормальное. Распределение в группе 2 очень сильно отличается. На гистограмме появлявилось 2 пика. Визуально выглядит так, что результат в группе 2 ухудшился."
   ]
  },
  {
   "cell_type": "markdown",
   "id": "be12542a-4b66-47dd-853e-35ca03aab303",
   "metadata": {},
   "source": [
    "## Тесты"
   ]
  },
  {
   "cell_type": "markdown",
   "id": "325f2814-2837-42ad-a96d-438753a30566",
   "metadata": {},
   "source": [
    "### Т-тест"
   ]
  },
  {
   "cell_type": "markdown",
   "id": "5bb2066a-9b3b-47a5-87a6-af639b8c259b",
   "metadata": {},
   "source": [
    "Распределение в тестовой группе выглядит странно. Оно очень сильно отличается от нормального.Врядли Т-тест даст адекватный результат. Однако в целях тестирования - проведем его.\n",
    "\n",
    "Нулевая гипотеза: $H_0:\\mu_1 = \\mu_2$\n",
    "\n",
    "Альтернативная гипотеза: $H_1:\\mu_1 \\neq \\mu_2$"
   ]
  },
  {
   "cell_type": "code",
   "execution_count": 5,
   "id": "5b90e1b5-7fae-4421-a145-98173ac92a8a",
   "metadata": {},
   "outputs": [
    {
     "data": {
      "text/plain": [
       "Ttest_indResult(statistic=0.7094392041270485, pvalue=0.4780623130874935)"
      ]
     },
     "execution_count": 5,
     "metadata": {},
     "output_type": "execute_result"
    }
   ],
   "source": [
    "#Т-тест для групп 1-2 по ctr \n",
    "stats.ttest_ind(df[df.exp_group == 1].ctr,\n",
    "                df[df.exp_group == 2].ctr,\n",
    "                equal_var=False)"
   ]
  },
  {
   "cell_type": "markdown",
   "id": "6fb49447-cf87-4139-946d-f15fbd9eacbf",
   "metadata": {},
   "source": [
    "Т-тест указывает нам, что мы не можем отвергнуть нулевую гипотезу. Однако из-за особенностей Тестового распределения лучше удостовериться другим тестом. Попробуем Т-тест на сглаженном CTR"
   ]
  },
  {
   "cell_type": "markdown",
   "id": "16284054-d3cf-47b0-af9f-dc8255fdf83c",
   "metadata": {},
   "source": [
    "### Т-тест на сглаженном CTR"
   ]
  },
  {
   "cell_type": "markdown",
   "id": "0af70ece-9ee4-469b-b654-466eb1004736",
   "metadata": {},
   "source": [
    "Сглаженный CTR.\n",
    "$$\n",
    "smoothedCTR_u = \\frac{views_u + \\alpha * globalCTR}{clicks_u+\\alpha}\n",
    "$$"
   ]
  },
  {
   "cell_type": "markdown",
   "id": "cb39dc62-42f1-4862-946d-4441fa59c2de",
   "metadata": {},
   "source": [
    "Подготовим дополнительные переменные."
   ]
  },
  {
   "cell_type": "code",
   "execution_count": 6,
   "id": "c8db463b-4acb-4519-9aa6-d33b3a267afd",
   "metadata": {},
   "outputs": [],
   "source": [
    "#вычисление global_ctr\n",
    "global_ctr_1 = df[df.exp_group == 1].likes.sum()/df[df.exp_group == 1].views.sum()\n",
    "global_ctr_2 = df[df.exp_group == 2].likes.sum()/df[df.exp_group == 2].views.sum()"
   ]
  },
  {
   "cell_type": "markdown",
   "id": "67a4de51-eaca-49c1-ac67-f0e07e638aff",
   "metadata": {},
   "source": [
    "Подготовим функцию для вычисления сглаженного CTR."
   ]
  },
  {
   "cell_type": "code",
   "execution_count": 7,
   "id": "6b527d4b-38cd-4339-96b5-06dbe9934ead",
   "metadata": {},
   "outputs": [],
   "source": [
    "def get_smothed_ctr(user_likes, user_views, exp_group, global_ctr_1, global_ctr_2, alpha):\n",
    "    '''\n",
    "    Функция на вход получает лайки пользователя, просмотры пользователя, номер группы,\n",
    "            global_ctr для каждой группы и коэффициент альфа\n",
    "    Возвращает итог подсчета сглаженного CTR для каждой группы\n",
    "    '''\n",
    "    if exp_group == 1:\n",
    "        global_ctr = global_ctr_1\n",
    "    else:\n",
    "        global_ctr = global_ctr_2\n",
    "    smothed_ctr = (user_likes + alpha * global_ctr) / (user_views + alpha)\n",
    "    return smothed_ctr"
   ]
  },
  {
   "cell_type": "markdown",
   "id": "16f6208c-44a8-4ec1-857b-6ae671373cdf",
   "metadata": {},
   "source": [
    "Посчитаем сглаженный CTR"
   ]
  },
  {
   "cell_type": "code",
   "execution_count": 8,
   "id": "6e3a25ee-1161-4069-b172-77795a6091a6",
   "metadata": {},
   "outputs": [],
   "source": [
    "#добавим стольбец со сглаженным CTR\n",
    "df['smothed_ctr'] = df.apply(\n",
    "    lambda x: get_smothed_ctr(x['likes'], x['views'], x['exp_group'], global_ctr_1, global_ctr_2, 5), axis=1)"
   ]
  },
  {
   "cell_type": "markdown",
   "id": "526bbfbe-0100-4547-ade4-a07ddc52bb9e",
   "metadata": {},
   "source": [
    "Нарисуем гистограмму сглажженого CTR"
   ]
  },
  {
   "cell_type": "code",
   "execution_count": 9,
   "id": "4dd2e690-cf74-422b-8d7d-51390d5ae6a6",
   "metadata": {},
   "outputs": [
    {
     "data": {
      "image/png": "[encoded data removed]",
      "text/plain": [
       "<Figure size 842.4x595.44 with 1 Axes>"
      ]
     },
     "metadata": {},
     "output_type": "display_data"
    }
   ],
   "source": [
    "#установка размера гистограммы\n",
    "sns.set(rc={'figure.figsize':(11.7,8.27)})\n",
    "\n",
    "#отрисова гистограммы распределений ctr в группах 1 и 2\n",
    "groups = sns.histplot(data = df, \n",
    "              x='smothed_ctr', \n",
    "              hue='exp_group', \n",
    "              palette = ['r', 'b'],\n",
    "              alpha=0.5,\n",
    "              kde=False)"
   ]
  },
  {
   "cell_type": "markdown",
   "id": "eedb82fa-5460-43b6-855f-69f8d809ae17",
   "metadata": {},
   "source": [
    "В целом гистограммы сгладились, но на сестовой группе все еще очень явственно протупают 2 пика, листограмма выглядит перекошенной. Есть вероятность что результаты Т-теста все еще будут не адекватными."
   ]
  },
  {
   "cell_type": "code",
   "execution_count": 10,
   "id": "4795d27a-a5f8-435e-873e-3c55fd7f035d",
   "metadata": {},
   "outputs": [
    {
     "data": {
      "text/plain": [
       "Ttest_indResult(statistic=2.2841320431616983, pvalue=0.0223769815558559)"
      ]
     },
     "execution_count": 10,
     "metadata": {},
     "output_type": "execute_result"
    }
   ],
   "source": [
    "#Т-тест для групп 1-2 по ctr \n",
    "stats.ttest_ind(df[df.exp_group == 1].smothed_ctr,\n",
    "                df[df.exp_group == 2].smothed_ctr,\n",
    "                equal_var=False)"
   ]
  },
  {
   "cell_type": "markdown",
   "id": "1d2dcc2e-d369-4203-9646-c23b34fe5e76",
   "metadata": {},
   "source": [
    "Т-тест на сглаженном CTR показал отличия. Причем отличия вероятно односторонние. И судя по гистограмме сглаженный CTR на тестовой группе меньше, чем на контрольной. Проверим предположение тестом Манна-Уитни"
   ]
  },
  {
   "cell_type": "markdown",
   "id": "a04050aa-343f-4369-919b-d63d6b911a3d",
   "metadata": {},
   "source": [
    "### Тест Манна-Уитни"
   ]
  },
  {
   "cell_type": "markdown",
   "id": "7c6418a2-6e45-4311-9f56-a6c2655e1e75",
   "metadata": {},
   "source": [
    "Проверим предположение тестом *Манна-Уитни*.\n",
    "\n",
    "Нулевая гипотеза $H_0: P(X_2>X_1) = P(X_1>X_2)$\n",
    "\n",
    "Альтернативная гипотеза : $H_1: P(X_2<X_1) > P(X_1<X_2)$\n"
   ]
  },
  {
   "cell_type": "code",
   "execution_count": 11,
   "id": "6873ca6c-8d0f-40ce-bf58-54b01f505f95",
   "metadata": {},
   "outputs": [
    {
     "name": "stdout",
     "output_type": "stream",
     "text": [
      "MannwhitneyuResult(statistic=43704947.5, pvalue=3.0188242308889518e-56)\n",
      "В 56.42 % случаев CTR в Контрольной группе больше, чем в Тестовой группе\n"
     ]
    }
   ],
   "source": [
    "#вывод на экран результатов теста Манна - Уинтни для односторонней гитотезы, проверка LESS\n",
    "print(stats.mannwhitneyu(x = df[df.exp_group == 2].ctr,\n",
    "                y = df[df.exp_group == 1].ctr, alternative = 'less'))\n",
    "\n",
    "#подсчет процентного отношения случаев, когда в группе 1 CTR больше чем в группе 2.\n",
    "A_gt_B = 0\n",
    "for _ in range(10000):\n",
    "    A_gt_B+= df[df.exp_group == 1].ctr.sample().values[0] > df[df.exp_group == 2].ctr.sample().values[0]\n",
    "    \n",
    "print('В', A_gt_B/100, '% случаев CTR в Контрольной группе больше, чем в Тестовой группе')"
   ]
  },
  {
   "cell_type": "markdown",
   "id": "b67376e9-251f-4be1-9260-f0d808cf7252",
   "metadata": {},
   "source": [
    "Альтернативная гипотеза подтвердилась. Значение pvalue = 3.0188242308889518e-56 менее чем 0.025. Значит альтернативаня гипотеза продтвердилась. CTR в группе А примерно в 56% случаем больше чем в группе 2."
   ]
  },
  {
   "cell_type": "markdown",
   "id": "040570f8-f6d8-4e95-9c28-cd10200ce8ab",
   "metadata": {},
   "source": [
    "### Пуассоновский бутстеп"
   ]
  },
  {
   "cell_type": "markdown",
   "id": "b0099842-7916-4b39-9e45-235179e073f1",
   "metadata": {},
   "source": [
    "Контрольно проведем еще несколько тестов. Первый из них Пуасоновский Бутсреп. Подготовим функцию для Пуасоновского бутстрепа."
   ]
  },
  {
   "cell_type": "code",
   "execution_count": 12,
   "id": "7c34d64d-4f82-4a35-86cb-fd9bb0ef139e",
   "metadata": {},
   "outputs": [],
   "source": [
    "def bootstrap(likes1, views1, likes2, views2, n_bootstrap=2000):\n",
    "    '''\n",
    "    Функция на фход получает лайки и просмотры обоих групп, а так же число итераций,\n",
    "    Генерирует сколько раз пользователь попал в конкретную подвыборку\n",
    "    Далее счтает распределение Global CTR для тестовой и контрольной группы\n",
    "    И возвражает новые распределения.\n",
    "    '''\n",
    "    poisson_bootstraps1 = stats.poisson(1).rvs(\n",
    "        (n_bootstrap, len(likes1))).astype(np.int64)\n",
    "\n",
    "    poisson_bootstraps2 = stats.poisson(1).rvs(\n",
    "            (n_bootstrap, len(likes2))).astype(np.int64)\n",
    "    \n",
    "    globalCTR1 = (poisson_bootstraps1*likes1).sum(axis=1)/(poisson_bootstraps1*views1).sum(axis=1)\n",
    "    \n",
    "    globalCTR2 = (poisson_bootstraps2*likes2).sum(axis=1)/(poisson_bootstraps2*views2).sum(axis=1)\n",
    "\n",
    "    return globalCTR1, globalCTR2"
   ]
  },
  {
   "cell_type": "markdown",
   "id": "a3156280-6e96-4498-9e72-4de82b18eed5",
   "metadata": {},
   "source": [
    "Подготовим переменные и запустим Бутсреп."
   ]
  },
  {
   "cell_type": "code",
   "execution_count": 13,
   "id": "7eac08db-d581-49c7-ab94-22675bf93a84",
   "metadata": {},
   "outputs": [],
   "source": [
    "#подготовка переменных для бутсрепа\n",
    "likes1 = df[df.exp_group == 1].likes.to_numpy()\n",
    "views1 = df[df.exp_group == 1].views.to_numpy()\n",
    "likes2 = df[df.exp_group == 2].likes.to_numpy()\n",
    "views2 = df[df.exp_group == 2].views.to_numpy()\n",
    "\n",
    "#запуск пуасоновского бутсрепа\n",
    "ctr1, ctr2 = bootstrap(likes1, views1, likes2, views2)"
   ]
  },
  {
   "cell_type": "code",
   "execution_count": 14,
   "id": "bf59dbf1-3ca3-433d-bbeb-9d8e17c0bcb1",
   "metadata": {},
   "outputs": [
    {
     "data": {
      "text/plain": [
       "<AxesSubplot:ylabel='Count'>"
      ]
     },
     "execution_count": 14,
     "metadata": {},
     "output_type": "execute_result"
    },
    {
     "data": {
      "image/png": "[encoded data removed]",
      "text/plain": [
       "<Figure size 842.4x595.44 with 1 Axes>"
      ]
     },
     "metadata": {},
     "output_type": "display_data"
    }
   ],
   "source": [
    "#Отрисовка графиков бутсрепа\n",
    "sns.histplot(ctr1, color = '#000000') #черный\n",
    "sns.histplot(ctr2, color = '#777777') #серый"
   ]
  },
  {
   "cell_type": "markdown",
   "id": "b259b4f2-703a-402c-b9a7-646fa731e831",
   "metadata": {},
   "source": [
    "Можно заметить, что у тестовой (серая) и контрольной (черная) групп нет пересечений. К тому же тестовая очевидным образом имеет более малые значения, чем контрольная. Мы можем сделать вывод, что новый алгоритм работает хуже, чем алгоритм контрольной группы."
   ]
  },
  {
   "cell_type": "markdown",
   "id": "9483ba37-d89d-4dc0-b90a-f4bb0e5f0d9c",
   "metadata": {},
   "source": [
    "### Бакетное преобразование"
   ]
  },
  {
   "cell_type": "markdown",
   "id": "5230d998-8315-4329-81d8-53b2177073d8",
   "metadata": {},
   "source": [
    "Подготовим новую талицу с бакетами. Для этого сделаем новый запрос SQL."
   ]
  },
  {
   "cell_type": "code",
   "execution_count": 15,
   "id": "816f0c86-9dfa-41a1-8091-af60f264c065",
   "metadata": {},
   "outputs": [
    {
     "name": "stdout",
     "output_type": "stream",
     "text": [
      "   exp_group  bucket  bucket_ctr\n",
      "0          1       0    0.196481\n",
      "1          2       0    0.194262\n",
      "2          1       1    0.211887\n",
      "3          2       1    0.215328\n",
      "4          1       2    0.206271\n"
     ]
    }
   ],
   "source": [
    "#новый SQL запрос\n",
    "q = \"\"\"SELECT exp_group,\n",
    "              bucket,\n",
    "              sum(likes)/sum(views) as bucket_ctr\n",
    "       FROM (SELECT exp_group, \n",
    "                    xxHash64(user_id)%50 as bucket,\n",
    "                    user_id,\n",
    "                    sum(action = 'like') as likes,\n",
    "                    sum(action = 'view') as views\n",
    "             FROM simulator_20220620.feed_actions \n",
    "             WHERE toDate(time) between '2022-05-24' and '2022-05-30'\n",
    "                   and exp_group in (1,2)\n",
    "             GROUP BY exp_group, bucket, user_id)\n",
    "        GROUP BY exp_group, bucket\"\"\"\n",
    "\n",
    "#получение данных из clickhouse\n",
    "df_bucket = pandahouse.read_clickhouse(q, connection=connection)\n",
    "\n",
    "#вывод первых пяти строк данных\n",
    "print(df_bucket.head())"
   ]
  },
  {
   "cell_type": "markdown",
   "id": "4d10e422-edab-4933-a6fd-d345d73875e0",
   "metadata": {},
   "source": [
    "Построим гистограмму для бакетов."
   ]
  },
  {
   "cell_type": "code",
   "execution_count": 16,
   "id": "01e796b6-c47c-4bae-9de0-4a34cc045609",
   "metadata": {},
   "outputs": [
    {
     "data": {
      "image/png": "[encoded data removed]",
      "text/plain": [
       "<Figure size 842.4x595.44 with 1 Axes>"
      ]
     },
     "metadata": {},
     "output_type": "display_data"
    }
   ],
   "source": [
    "#установка размера гистограммы\n",
    "sns.set(rc={'figure.figsize':(11.7,8.27)})\n",
    "\n",
    "#отрисова гистограммы распределений ctr в группах 1 и 2\n",
    "groups = sns.histplot(data = df_bucket, \n",
    "              x='bucket_ctr', \n",
    "              hue='exp_group', \n",
    "              palette = ['r', 'b'],\n",
    "              alpha=0.5,\n",
    "              kde=False)"
   ]
  },
  {
   "cell_type": "markdown",
   "id": "da693487-7e81-4715-a2be-58d982796fbe",
   "metadata": {},
   "source": [
    "Уже по гистограмме видно, что группы отличаются. Проведем Т-тест и тест Манна-Уитни."
   ]
  },
  {
   "cell_type": "markdown",
   "id": "68f6c12d-5e25-40af-8d2e-e44cf6f26380",
   "metadata": {},
   "source": [
    "#### Т-тест для бакетного преобразования"
   ]
  },
  {
   "cell_type": "markdown",
   "id": "0eff20bd-a0fd-42d3-9b90-47e3b77eaff1",
   "metadata": {},
   "source": [
    "Нулевая гипотеза: $H_0:\\mu_1 = \\mu_2$\n",
    "\n",
    "Альтернативная гипотеза: $H_1:\\mu_1 \\neq \\mu_2$"
   ]
  },
  {
   "cell_type": "code",
   "execution_count": 17,
   "id": "eaf39c3d-c4b8-466b-ba02-b30952a3d846",
   "metadata": {},
   "outputs": [
    {
     "data": {
      "text/plain": [
       "Ttest_indResult(statistic=5.668234732053979, pvalue=3.4455951649945907e-07)"
      ]
     },
     "execution_count": 17,
     "metadata": {},
     "output_type": "execute_result"
    }
   ],
   "source": [
    "#Т-тест для групп 1-2 по ctr \n",
    "stats.ttest_ind(df_bucket[df_bucket.exp_group == 1].bucket_ctr,\n",
    "                df_bucket[df_bucket.exp_group == 2].bucket_ctr,\n",
    "                equal_var=False)"
   ]
  },
  {
   "cell_type": "markdown",
   "id": "9e4fa8ec-8588-4d71-a253-35029cb33eea",
   "metadata": {},
   "source": [
    "По результату можно видеть, что группы отличаются друг от друга. Значение p-value очень мало."
   ]
  },
  {
   "cell_type": "markdown",
   "id": "715582ac-9c22-4413-812e-ce23a2882d43",
   "metadata": {
    "tags": []
   },
   "source": [
    "#### Тест Манна-Уитни для бакетного преобразования"
   ]
  },
  {
   "cell_type": "markdown",
   "id": "3a054d65-8e72-466d-b049-416c462ae6e2",
   "metadata": {},
   "source": [
    "Нулевая гипотеза $H_0: P(X_2>X_1) = P(X_1>X_2)$\n",
    "\n",
    "Альтернативная гипотеза : $H_1: P(X_2<X_1) > P(X_1<X_2)$"
   ]
  },
  {
   "cell_type": "code",
   "execution_count": 18,
   "id": "9d57fb4f-4db7-4123-9796-d37fe16c6088",
   "metadata": {},
   "outputs": [
    {
     "name": "stdout",
     "output_type": "stream",
     "text": [
      "MannwhitneyuResult(statistic=505.0, pvalue=1.429981968246323e-07)\n"
     ]
    }
   ],
   "source": [
    "#вывод на экран результатов теста Манна - Уинтни для односторонней гитотезы, проверка LESS\n",
    "print(stats.mannwhitneyu(x = df_bucket[df_bucket.exp_group == 2].bucket_ctr,\n",
    "                y = df_bucket[df_bucket.exp_group == 1].bucket_ctr, alternative = 'less'))"
   ]
  },
  {
   "cell_type": "markdown",
   "id": "79891f89-e9e2-40df-a516-4d0b8f0af80a",
   "metadata": {},
   "source": [
    "Как и при предыдущем тесте Манна-Уитни предположение, что результаты в тестовой группе хуже чем результаты в контрольной подтвердились."
   ]
  },
  {
   "cell_type": "markdown",
   "id": "3a9288d4-a35d-470a-9e2d-1578761fe286",
   "metadata": {},
   "source": [
    "### Вывод"
   ]
  },
  {
   "cell_type": "markdown",
   "id": "ab2f7705-68b8-4081-b634-0aa37a12b6fc",
   "metadata": {},
   "source": [
    "Т-тест при распределениях сильно отличных от нормального, тем более со скосами может выдавать не самые адекватные результаты. Остальные тесты (тест Манна-Уитни, Пуассоновский бутсреп, Т_тест на сглаженном CTR, и тесты на бакетном преобразовании) достаточно хорошо справляюся с поодобными проблемами."
   ]
  },
  {
   "cell_type": "markdown",
   "id": "37206a2e-3523-467b-a7c7-46f3e9717b88",
   "metadata": {},
   "source": [
    "## Анализ ситуации"
   ]
  },
  {
   "cell_type": "markdown",
   "id": "d58b9792-048e-48c7-ab11-d9eddcaeb8d3",
   "metadata": {},
   "source": [
    "Распределение с 2 пиками вероятно возникло из-за того, что модель в своих предсказаниях отдает предпочтение интересам одной группы пользователей в ущерб другой, возможно у модели предсказание близко к константному. \n",
    "\n",
    "Для примера, если у нас есть  предположим три группы интересов пользователей: кулинария, спорт, дети. Если всем пользователям мы начнем чаще предсказывать интерес - спорт, то мы получим увеличение CTR в группе спорт и падение CTR в остальных группах."
   ]
  },
  {
   "cell_type": "markdown",
   "id": "2dd85805-99bf-4ef2-bcce-3cbb606a659b",
   "metadata": {},
   "source": [
    "## Вывод"
   ]
  },
  {
   "cell_type": "markdown",
   "id": "f3e85cbb-d19d-4a69-94b1-587d266260a5",
   "metadata": {},
   "source": [
    "Новый алгоритм однозначно **нельзя рекомендовать для всех пользователей**. Алгоритм, как минимум, требует серьезной доработки и в данном виде **не подходит для внедрения**. "
   ]
  }
 ],
 "metadata": {
  "kernelspec": {
   "display_name": "Python 3 (ipykernel)",
   "language": "python",
   "name": "python3"
  },
  "language_info": {
   "codemirror_mode": {
    "name": "ipython",
    "version": 3
   },
   "file_extension": ".py",
   "mimetype": "text/x-python",
   "name": "python",
   "nbconvert_exporter": "python",
   "pygments_lexer": "ipython3",
   "version": "3.8.10"
  }
 },
 "nbformat": 4,
 "nbformat_minor": 5
}
