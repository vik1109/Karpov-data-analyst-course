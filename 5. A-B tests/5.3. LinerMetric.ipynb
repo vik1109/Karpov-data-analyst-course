{
 "cells": [
  {
   "cell_type": "markdown",
   "id": "db07f9f1-fd01-4c2f-b3cf-d36b9f09100e",
   "metadata": {},
   "source": [
    "## Линеаризированные метрики"
   ]
  },
  {
   "cell_type": "markdown",
   "id": "6010f95a-64dc-4a5c-ae99-8f340f24b042",
   "metadata": {},
   "source": [
    "Относительно недавно (в 2018-м году) исследователи из Яндекса разработали классный метод анализа тестов над метриками-отношениями (прямо как у нас) вида  $𝑥/𝑦$\n",
    "\n",
    "Идея метода заключается в следующем:\n",
    "\n",
    "Вместо того, чтобы заталкивать в тест «поюзерные» CTR, можно сконструировать другую метрику и анализировать ее, но при этом гарантируется (в отличие от сглаженного CTR), что если тест на этой другой метрике «прокрасится» и увидит изменения, значит изменения есть и в метрике исходной (то есть в лайках на пользователя и в пользовательских CTR\n",
    "\n",
    "При этом метод сам по себе очень прост. Что это за метрика такая?\n",
    "\n",
    "Считаем общий CTR в контрольной группе  $$CTR_{control} = \\frac{sum(likes)}{sum(views)}$$\n",
    "Посчитаем в обеих группах поюзерную метрику  $$linearised\\_likes=likes - CTR_{control} * views $$\n",
    "После чего сравним  t-тестом отличия в группах по метрике $linearised\\_likes$  \n",
    "Метод простой, гарантируется, что при приличном размере выборки (как у нас — подойдет) можно бесплатно увеличить чувствительность вашей метрики (или, по крайней мере, не сделать хуже). Как по мне, это ОЧЕНЬ круто.\n",
    "\n",
    "Задача\n",
    "\n",
    "* Проанализируйте тест между группами 0 и 3 по метрике линеаризованных лайков. Видно ли отличие? Стало ли *p-value* меньше?\n",
    "* Проанализируйте тест между группами 1 и 2 по метрике линеаризованных лайков. Видно ли отличие? Стало ли *p-value* меньше?"
   ]
  },
  {
   "cell_type": "markdown",
   "id": "166b8640-2f05-452c-b4e6-62c8d04884da",
   "metadata": {},
   "source": [
    "Импорт библиотек"
   ]
  },
  {
   "cell_type": "code",
   "execution_count": 1,
   "id": "f88340c8-4342-49c2-9c70-505f2460c00a",
   "metadata": {},
   "outputs": [],
   "source": [
    "#импорт библиотек\n",
    "import pandahouse\n",
    "import pandas as pd\n",
    "import seaborn as sns\n",
    "from scipy import stats\n",
    "import numpy as np"
   ]
  },
  {
   "cell_type": "markdown",
   "id": "fa817d65-4e6f-4d7b-9cb0-32fd2248fba1",
   "metadata": {},
   "source": [
    "Настроим подключение ClickHouse"
   ]
  },
  {
   "cell_type": "code",
   "execution_count": 2,
   "id": "126bb2c1-78b5-4b07-bf43-0714d0bb0075",
   "metadata": {},
   "outputs": [],
   "source": [
    "#параметры соединения с clickhouse\n",
    "connection = {\n",
    "    'host': 'https://clickhouse.lab.karpov.courses',\n",
    "    'password': 'dpo_python_2020',\n",
    "    'user': 'student',\n",
    "    'database': 'simulator'\n",
    "}\n",
    "\n",
    "#SQL запрос \n",
    "q = \"\"\"SELECT exp_group, \n",
    "    user_id,\n",
    "    sum(action = 'like') as likes,\n",
    "    sum(action = 'view') as views,\n",
    "    likes/views as ctr\n",
    "FROM simulator_20220620.feed_actions \n",
    "WHERE toDate(time) between '2022-05-24' and '2022-05-30'\n",
    "    and exp_group in (0,1,2,3)\n",
    "GROUP BY exp_group, user_id\"\"\""
   ]
  },
  {
   "cell_type": "markdown",
   "id": "90aea744-49e2-4942-b04c-69d2e878df15",
   "metadata": {},
   "source": [
    "Загрузим данные."
   ]
  },
  {
   "cell_type": "code",
   "execution_count": 3,
   "id": "eec83cb7-1a02-4430-85c1-3a5e26147663",
   "metadata": {},
   "outputs": [
    {
     "name": "stdout",
     "output_type": "stream",
     "text": [
      "   exp_group  user_id  likes  views       ctr\n",
      "0          3   115383      9     30  0.300000\n",
      "1          1    18392      7     32  0.218750\n",
      "2          3   123580     13     48  0.270833\n",
      "3          2   131473     14    134  0.104478\n",
      "4          2    32420     26    128  0.203125\n"
     ]
    }
   ],
   "source": [
    "#получение данных из clickhouse\n",
    "df = pandahouse.read_clickhouse(q, connection=connection)\n",
    "\n",
    "#вывод первых пяти строк данных\n",
    "print(df.head())"
   ]
  },
  {
   "cell_type": "markdown",
   "id": "e12d66d8-974f-4de3-8a2d-ba6151215e02",
   "metadata": {},
   "source": [
    "Посчитаем control_ctr в контрольных группах (1, 0)"
   ]
  },
  {
   "cell_type": "code",
   "execution_count": 4,
   "id": "e089072e-97e9-4226-b310-8a5662947149",
   "metadata": {},
   "outputs": [
    {
     "name": "stdout",
     "output_type": "stream",
     "text": [
      "CTR контрольной группы 0: 0.20823612262916305 \n",
      "CTR контрольной группы 1: 0.20802680490126244\n"
     ]
    }
   ],
   "source": [
    "#подсчет control_ctr для контрольных групп\n",
    "control_ctr_0 = sum(df[df.exp_group == 0].likes)/sum(df[df.exp_group == 0].views)\n",
    "control_ctr_1 = sum(df[df.exp_group == 1].likes)/sum(df[df.exp_group == 1].views)\n",
    "\n",
    "#вывод на экран результата подсчета\n",
    "print('CTR контрольной группы 0:', control_ctr_0, '\\nCTR контрольной группы 1:',control_ctr_1)"
   ]
  },
  {
   "cell_type": "markdown",
   "id": "fd862de6-ac74-42de-b340-00e98a4d8616",
   "metadata": {},
   "source": [
    "Теперь добавим 2 дополнительных столбца. linearized_likes_0 и linearized_likes_1 с лайнеаризированными лайками"
   ]
  },
  {
   "cell_type": "code",
   "execution_count": 5,
   "id": "8bc2f572-24c2-43df-9aa1-f5a84eeccd55",
   "metadata": {},
   "outputs": [
    {
     "data": {
      "text/html": [
       "<div>\n",
       "<style scoped>\n",
       "    .dataframe tbody tr th:only-of-type {\n",
       "        vertical-align: middle;\n",
       "    }\n",
       "\n",
       "    .dataframe tbody tr th {\n",
       "        vertical-align: top;\n",
       "    }\n",
       "\n",
       "    .dataframe thead th {\n",
       "        text-align: right;\n",
       "    }\n",
       "</style>\n",
       "<table border=\"1\" class=\"dataframe\">\n",
       "  <thead>\n",
       "    <tr style=\"text-align: right;\">\n",
       "      <th></th>\n",
       "      <th>exp_group</th>\n",
       "      <th>user_id</th>\n",
       "      <th>likes</th>\n",
       "      <th>views</th>\n",
       "      <th>ctr</th>\n",
       "      <th>linearized_likes_0</th>\n",
       "      <th>linearized_likes_1</th>\n",
       "    </tr>\n",
       "  </thead>\n",
       "  <tbody>\n",
       "    <tr>\n",
       "      <th>0</th>\n",
       "      <td>3</td>\n",
       "      <td>115383</td>\n",
       "      <td>9</td>\n",
       "      <td>30</td>\n",
       "      <td>0.300000</td>\n",
       "      <td>2.752916</td>\n",
       "      <td>2.759196</td>\n",
       "    </tr>\n",
       "    <tr>\n",
       "      <th>1</th>\n",
       "      <td>1</td>\n",
       "      <td>18392</td>\n",
       "      <td>7</td>\n",
       "      <td>32</td>\n",
       "      <td>0.218750</td>\n",
       "      <td>0.336444</td>\n",
       "      <td>0.343142</td>\n",
       "    </tr>\n",
       "    <tr>\n",
       "      <th>2</th>\n",
       "      <td>3</td>\n",
       "      <td>123580</td>\n",
       "      <td>13</td>\n",
       "      <td>48</td>\n",
       "      <td>0.270833</td>\n",
       "      <td>3.004666</td>\n",
       "      <td>3.014713</td>\n",
       "    </tr>\n",
       "    <tr>\n",
       "      <th>3</th>\n",
       "      <td>2</td>\n",
       "      <td>131473</td>\n",
       "      <td>14</td>\n",
       "      <td>134</td>\n",
       "      <td>0.104478</td>\n",
       "      <td>-13.903640</td>\n",
       "      <td>-13.875592</td>\n",
       "    </tr>\n",
       "    <tr>\n",
       "      <th>4</th>\n",
       "      <td>2</td>\n",
       "      <td>32420</td>\n",
       "      <td>26</td>\n",
       "      <td>128</td>\n",
       "      <td>0.203125</td>\n",
       "      <td>-0.654224</td>\n",
       "      <td>-0.627431</td>\n",
       "    </tr>\n",
       "  </tbody>\n",
       "</table>\n",
       "</div>"
      ],
      "text/plain": [
       "   exp_group  user_id  likes  views       ctr  linearized_likes_0  \\\n",
       "0          3   115383      9     30  0.300000            2.752916   \n",
       "1          1    18392      7     32  0.218750            0.336444   \n",
       "2          3   123580     13     48  0.270833            3.004666   \n",
       "3          2   131473     14    134  0.104478          -13.903640   \n",
       "4          2    32420     26    128  0.203125           -0.654224   \n",
       "\n",
       "   linearized_likes_1  \n",
       "0            2.759196  \n",
       "1            0.343142  \n",
       "2            3.014713  \n",
       "3          -13.875592  \n",
       "4           -0.627431  "
      ]
     },
     "metadata": {},
     "output_type": "display_data"
    }
   ],
   "source": [
    "#лайнеаризация лайков\n",
    "df['linearized_likes_0'] = df.likes - control_ctr_0*df.views\n",
    "df['linearized_likes_1'] = df.likes - control_ctr_1*df.views\n",
    "\n",
    "#выод на экран результата работы лайнеаризации лайков\n",
    "display(df.head())"
   ]
  },
  {
   "cell_type": "markdown",
   "id": "364ef4f4-d8b7-471a-88e3-3d940b1b7e0b",
   "metadata": {
    "tags": []
   },
   "source": [
    "### Т-тесты"
   ]
  },
  {
   "cell_type": "markdown",
   "id": "2ebed477-67bf-41a6-9c1d-536e965f14c0",
   "metadata": {},
   "source": [
    "#### Группы 0-3"
   ]
  },
  {
   "cell_type": "markdown",
   "id": "c4a02593-b229-4a3c-81b7-2d7fd18ee283",
   "metadata": {},
   "source": [
    "Проведем Т-тесты для группы 0-3. Сначала проведем Т-тест по кликам, затем по лайнеаризированным лайкам."
   ]
  },
  {
   "cell_type": "code",
   "execution_count": 6,
   "id": "805b4ecc-0816-4c99-9b19-f2566446ab20",
   "metadata": {},
   "outputs": [
    {
     "data": {
      "text/plain": [
       "Ttest_indResult(statistic=-13.896870721904069, pvalue=1.055849414662529e-43)"
      ]
     },
     "execution_count": 6,
     "metadata": {},
     "output_type": "execute_result"
    }
   ],
   "source": [
    "#Т-тест в группе 0-3 на кликам\n",
    "stats.ttest_ind(df[df.exp_group == 0].ctr,\n",
    "                df[df.exp_group == 3].ctr,\n",
    "                equal_var=False)"
   ]
  },
  {
   "cell_type": "markdown",
   "id": "5494a4ba-001d-4c7c-a69a-94caf78c9249",
   "metadata": {},
   "source": [
    "Нарисуем гистограмму для групп 0-3 по кликам."
   ]
  },
  {
   "cell_type": "code",
   "execution_count": 7,
   "id": "86567b17-f5a1-4be7-9c5f-2dcc9e0dcc84",
   "metadata": {},
   "outputs": [
    {
     "data": {
      "image/png": "[encoded data removed]",
      "text/plain": [
       "<Figure size 842.4x595.44 with 1 Axes>"
      ]
     },
     "metadata": {},
     "output_type": "display_data"
    }
   ],
   "source": [
    "#установка размера гистограммы\n",
    "sns.set(rc={'figure.figsize':(11.7,8.27)})\n",
    "\n",
    "#отрисова гистограммы распределений ctr в группах 0 и 3\n",
    "groups = sns.histplot(data = df[(df.exp_group == 0) | (df.exp_group == 3)], \n",
    "              x='ctr', \n",
    "              hue='exp_group', \n",
    "              palette = ['r', 'b'],\n",
    "              alpha=0.5,\n",
    "              kde=False)"
   ]
  },
  {
   "cell_type": "markdown",
   "id": "daaee3a7-e760-482c-a1fa-dccfc516a316",
   "metadata": {},
   "source": [
    "Теперь проведем Т-тест для групп 0-3 по лайнеаризированным лайкам."
   ]
  },
  {
   "cell_type": "code",
   "execution_count": 8,
   "id": "ca3bb4fe-e488-4b56-8c73-6cb800bed84f",
   "metadata": {},
   "outputs": [
    {
     "data": {
      "text/plain": [
       "Ttest_indResult(statistic=-15.214995460903827, pvalue=5.4914249479690016e-52)"
      ]
     },
     "execution_count": 8,
     "metadata": {},
     "output_type": "execute_result"
    }
   ],
   "source": [
    "#Т-тест для групп 0-3 по лайнеаризированным лайкам \n",
    "stats.ttest_ind(df[df.exp_group == 0]['linearized_likes_0'],\n",
    "                df[df.exp_group == 3]['linearized_likes_0'],\n",
    "                equal_var=False)"
   ]
  },
  {
   "cell_type": "markdown",
   "id": "3188b11e-cc8e-474b-adee-61b81de0b9ff",
   "metadata": {},
   "source": [
    "Нарисуем гистограмму для групп 0-3 по лайнеаризированным лайкам."
   ]
  },
  {
   "cell_type": "code",
   "execution_count": 9,
   "id": "598773ff-2878-49f0-b15f-b96f3fb4a28f",
   "metadata": {},
   "outputs": [
    {
     "data": {
      "image/png": "[encoded data removed]",
      "text/plain": [
       "<Figure size 842.4x595.44 with 1 Axes>"
      ]
     },
     "metadata": {},
     "output_type": "display_data"
    }
   ],
   "source": [
    "#установка размера гистограммы\n",
    "sns.set(rc={'figure.figsize':(11.7,8.27)})\n",
    "\n",
    "#отрисова гистограммы распределений linearized_likes_0 в группах 0 и 3\n",
    "groups = sns.histplot(data = df[(df.exp_group == 0) | (df.exp_group == 3)], \n",
    "              x='linearized_likes_0', \n",
    "              hue='exp_group', \n",
    "              palette = ['r', 'b'],\n",
    "              alpha=0.5,\n",
    "              kde=False)"
   ]
  },
  {
   "cell_type": "markdown",
   "id": "47b6f8b1-ab4a-41ae-b9b9-6216dda10e01",
   "metadata": {},
   "source": [
    "#### Вывод по группам 0-3:"
   ]
  },
  {
   "cell_type": "markdown",
   "id": "2fa93c2e-0d28-4396-9048-7626b9164a96",
   "metadata": {},
   "source": [
    "По гистограммам видно, что распределение в лайнеаризированных лайках гараздо ближе к нормальному, чем изначальное распределение по кликам. P-value стал меньше, что на столь малых значениях в целом не имеет большого значения."
   ]
  },
  {
   "cell_type": "markdown",
   "id": "9e6ce7b4-f5ec-4210-ac56-af42672060c3",
   "metadata": {},
   "source": [
    "#### Группы 1-2"
   ]
  },
  {
   "cell_type": "markdown",
   "id": "eb44f583-a586-4ce6-a697-4f8193bf5c4e",
   "metadata": {},
   "source": [
    "Проведем Т-тесты для группы 1-2. Сначала проведем Т-тест по кликам, затем по лайнеаризированным лайкам."
   ]
  },
  {
   "cell_type": "code",
   "execution_count": 10,
   "id": "7d71077a-002c-437c-af12-8271582e4d85",
   "metadata": {},
   "outputs": [
    {
     "data": {
      "text/plain": [
       "Ttest_indResult(statistic=0.7094392041270485, pvalue=0.4780623130874935)"
      ]
     },
     "execution_count": 10,
     "metadata": {},
     "output_type": "execute_result"
    }
   ],
   "source": [
    "#Т-тест в группе 1-2 на кликам\n",
    "stats.ttest_ind(df[df.exp_group == 1].ctr,\n",
    "                df[df.exp_group == 2].ctr,\n",
    "                equal_var=False)"
   ]
  },
  {
   "cell_type": "markdown",
   "id": "a7a0fc0e-3b35-410f-85fc-b1d59381778b",
   "metadata": {},
   "source": [
    "Нарисуем гистограмму для групп 1-2 по кликам."
   ]
  },
  {
   "cell_type": "code",
   "execution_count": 11,
   "id": "bcb03bd9-f41b-4188-ae12-42a3038220d2",
   "metadata": {},
   "outputs": [
    {
     "data": {
      "image/png": "[encoded data removed]",
      "text/plain": [
       "<Figure size 842.4x595.44 with 1 Axes>"
      ]
     },
     "metadata": {},
     "output_type": "display_data"
    }
   ],
   "source": [
    "#установка размера гистограммы\n",
    "sns.set(rc={'figure.figsize':(11.7,8.27)})\n",
    "\n",
    "#отрисова гистограммы распределений ctr в группах 1 и 2\n",
    "groups = sns.histplot(data = df[(df.exp_group == 1) | (df.exp_group == 2)], \n",
    "              x='ctr', \n",
    "              hue='exp_group', \n",
    "              palette = ['r', 'b'],\n",
    "              alpha=0.5,\n",
    "              kde=False)"
   ]
  },
  {
   "cell_type": "markdown",
   "id": "09e34f47-70dd-4655-b920-66befd34c0e6",
   "metadata": {},
   "source": [
    "Теперь проведем Т-тест для групп 1-2 по лайнеаризированным лайкам."
   ]
  },
  {
   "cell_type": "code",
   "execution_count": 12,
   "id": "41962dda-8300-4d24-b10d-c8a6e0d1471a",
   "metadata": {},
   "outputs": [
    {
     "data": {
      "text/plain": [
       "Ttest_indResult(statistic=6.122579994775972, pvalue=9.439432187037712e-10)"
      ]
     },
     "execution_count": 12,
     "metadata": {},
     "output_type": "execute_result"
    }
   ],
   "source": [
    "#Т-тест для групп 0-3 по лайнеаризированным лайкам\n",
    "stats.ttest_ind(df[df.exp_group == 1]['linearized_likes_1'],\n",
    "                df[df.exp_group == 2]['linearized_likes_1'],\n",
    "                equal_var=False)"
   ]
  },
  {
   "cell_type": "markdown",
   "id": "2e6c2d5c-a504-4b69-bd29-11edc0601e07",
   "metadata": {},
   "source": [
    "Нарисуем гистограмму для групп 1-2 по лайнеаризированным лайкам."
   ]
  },
  {
   "cell_type": "code",
   "execution_count": 13,
   "id": "18f24912-ec2e-4c93-80c1-a79104395451",
   "metadata": {},
   "outputs": [
    {
     "data": {
      "image/png": "[encoded data removed]",
      "text/plain": [
       "<Figure size 842.4x595.44 with 1 Axes>"
      ]
     },
     "metadata": {},
     "output_type": "display_data"
    }
   ],
   "source": [
    "#установка размера гистограммы\n",
    "sns.set(rc={'figure.figsize':(11.7,8.27)})\n",
    "\n",
    "#отрисова гистограммы распределений linearized_likes_1 в группах 1 и 2\n",
    "groups = sns.histplot(data = df[(df.exp_group == 1) | (df.exp_group == 2)], \n",
    "              x='linearized_likes_1', \n",
    "              hue='exp_group', \n",
    "              palette = ['r', 'b'],\n",
    "              alpha=0.5,\n",
    "              kde=False)"
   ]
  },
  {
   "cell_type": "markdown",
   "id": "92ba83f1-a810-4770-9abb-faae30fc6c86",
   "metadata": {},
   "source": [
    "#### Вывод по группам 1-2"
   ]
  },
  {
   "cell_type": "markdown",
   "id": "4590a4f8-da01-4874-a7d0-53d468fab0d2",
   "metadata": {},
   "source": [
    "На гистограмме по лайнеаризированным лайкам по группам 1-2 тоже видно, что они приняли вид, более близкий к нормальному распределению, чем гистограмма по кликам, хотя на тестовой группе все еще 2 пика. P-value уменьшился, причем значительно. И если по результатам Т-теста по группам 1-2 по кликам мы не могли отвергнуть Нулевую гипотезу, то на значении p-value по лайнеаризированным кликам мы уверенно отвергаем нулевую гипотезу."
   ]
  },
  {
   "cell_type": "markdown",
   "id": "7f9a75c8-acb3-44e6-a03f-c6f07f7b8333",
   "metadata": {},
   "source": [
    "### Общий вывод"
   ]
  },
  {
   "cell_type": "markdown",
   "id": "613b3881-8a8d-4a98-866f-cbd11b0ed488",
   "metadata": {},
   "source": [
    "Лайнеаризация метрик вида $\\frac{x}{y}$ является мощным инструментов, который сглаживает распределения .и делает результаты АБ-тестов более точными. В то время, как на изначальной метрике с тестами вполне могут быть проблемы и ошибки."
   ]
  }
 ],
 "metadata": {
  "kernelspec": {
   "display_name": "Python 3 (ipykernel)",
   "language": "python",
   "name": "python3"
  },
  "language_info": {
   "codemirror_mode": {
    "name": "ipython",
    "version": 3
   },
   "file_extension": ".py",
   "mimetype": "text/x-python",
   "name": "python",
   "nbconvert_exporter": "python",
   "pygments_lexer": "ipython3",
   "version": "3.8.10"
  }
 },
 "nbformat": 4,
 "nbformat_minor": 5
}
