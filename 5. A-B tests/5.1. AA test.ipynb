{
 "cells": [
  {
   "cell_type": "markdown",
   "id": "3bac2139-41fc-4fcc-94d5-2cef58ffc8bf",
   "metadata": {},
   "source": [
    "## AA TEST"
   ]
  },
  {
   "cell_type": "markdown",
   "id": "839b0d87-d559-4791-a108-f08328e10b38",
   "metadata": {},
   "source": [
    "Постановка задачи:\n",
    "\n",
    "У нас есть данные АА-теста с '2022-05-17' по '2022-05-23'. Вам нужно сделать симуляцию, как будто мы провели 10000 АА-тестов. На каждой итерации вам нужно сформировать подвыборки с повторением в 500 юзеров из 2 и 3 экспериментальной группы. Провести сравнение этих подвыборок t-testом.\n",
    "\n",
    "1. Построить гистограмму распределения получившихся 10000 p-values.\n",
    "\n",
    "2. Посчитать, какой процент p values оказался меньше либо равен 0.05\n",
    "\n",
    "3. Написать вывод по проведенному АА-тесту, корректно ли работает наша система сплитования.\n",
    "\n",
    "4. Пришлите ссылку на merge request c проведенным анализом."
   ]
  },
  {
   "cell_type": "markdown",
   "id": "b48b3ce5-513d-4376-b804-9cd7aa281517",
   "metadata": {},
   "source": [
    "Импортируем необходимые библиотеки."
   ]
  },
  {
   "cell_type": "code",
   "execution_count": 1,
   "id": "dc71b2b7-2deb-4858-bc01-8fb25f538af9",
   "metadata": {},
   "outputs": [],
   "source": [
    "#импорт библиотек\n",
    "import pandahouse\n",
    "import pandas as pd\n",
    "import seaborn as sns\n",
    "from scipy import stats\n",
    "import numpy as np"
   ]
  },
  {
   "cell_type": "markdown",
   "id": "1ee76912-0bfc-46d1-94be-3aaca3552459",
   "metadata": {},
   "source": [
    "Настроим подключение к ClickHouse."
   ]
  },
  {
   "cell_type": "code",
   "execution_count": 2,
   "id": "4e466c78-b702-44cd-828d-4b67e040466d",
   "metadata": {},
   "outputs": [],
   "source": [
    "#параметры соединения с clickhouse\n",
    "connection = {\n",
    "    'host': 'https://clickhouse.lab.karpov.courses',\n",
    "    'password': 'dpo_python_2020',\n",
    "    'user': 'student',\n",
    "    'database': 'simulator'\n",
    "}\n",
    "\n",
    "#SQL запрос \n",
    "q = \"\"\"SELECT exp_group, \n",
    "    user_id,\n",
    "    sum(action = 'like') as likes,\n",
    "    sum(action = 'view') as views,\n",
    "    likes/views as ctr\n",
    "FROM simulator_20220620.feed_actions \n",
    "WHERE toDate(time) between '2022-05-17' and '2022-05-23'\n",
    "    and exp_group in (2,3)\n",
    "GROUP BY exp_group, user_id\"\"\""
   ]
  },
  {
   "cell_type": "markdown",
   "id": "d7a376ee-b5f0-41e6-93d4-8d54d41a2844",
   "metadata": {},
   "source": [
    "Загрузим данные. Посмотрим первые 5 строк."
   ]
  },
  {
   "cell_type": "code",
   "execution_count": 3,
   "id": "ce3c1d3b-eea3-4b94-a1d5-aff6d5f325c1",
   "metadata": {},
   "outputs": [
    {
     "name": "stdout",
     "output_type": "stream",
     "text": [
      "   exp_group  user_id  likes  views       ctr\n",
      "0          3   115383     11     36  0.305556\n",
      "1          3   123580     15     92  0.163043\n",
      "2          2   131473     26    148  0.175676\n",
      "3          2    23985     12     66  0.181818\n",
      "4          2    24523     17    120  0.141667\n"
     ]
    }
   ],
   "source": [
    "#получение данных из clickhouse\n",
    "df = pandahouse.read_clickhouse(q, connection=connection)\n",
    "\n",
    "#вывод первых пяти строк данных\n",
    "print(df.head())"
   ]
  },
  {
   "cell_type": "markdown",
   "id": "2147cf06-1686-473e-b9a9-8ee7258e0a5e",
   "metadata": {},
   "source": [
    "Нарисуем гистограмму по CTR"
   ]
  },
  {
   "cell_type": "code",
   "execution_count": 4,
   "id": "0d078dbb-28f4-482c-babb-9a7c2df1adba",
   "metadata": {},
   "outputs": [
    {
     "data": {
      "image/png": "[encoded data removed]",
      "text/plain": [
       "<Figure size 842.4x595.44 with 1 Axes>"
      ]
     },
     "metadata": {},
     "output_type": "display_data"
    }
   ],
   "source": [
    "#установка размера гистограммы\n",
    "sns.set(rc={'figure.figsize':(11.7,8.27)})\n",
    "\n",
    "#отрисова гистограммы распределений ctr в группах 0 и 3\n",
    "groups = sns.histplot(data = df[(df.exp_group == 2) | (df.exp_group == 3)], \n",
    "              x='ctr', \n",
    "              hue='exp_group', \n",
    "              palette = ['r', 'b'],\n",
    "              alpha=0.5,\n",
    "              kde=False)"
   ]
  },
  {
   "cell_type": "markdown",
   "id": "969b31b5-bb78-40d6-9c99-d80c8c1b6ff0",
   "metadata": {},
   "source": [
    "Группы внешне очень похожи друг на друга."
   ]
  },
  {
   "cell_type": "markdown",
   "id": "994b3715-31c2-4d0b-abc8-bea208358765",
   "metadata": {},
   "source": [
    "Проведем 10000 АА тестов на выборках с возвращением размера 500, на группах 2 и 3."
   ]
  },
  {
   "cell_type": "code",
   "execution_count": 5,
   "id": "37e825da-36cb-41fa-bab6-0e8719b86815",
   "metadata": {},
   "outputs": [],
   "source": [
    "number_of_tests = 10000 #количество тестов\n",
    "sample_size = 500 #размер выборки\n",
    "p_value = [] #список значений p_value\n",
    "\n",
    "#Цикл для проведения Т-test. Результаты сохраняем в список p_value\n",
    "for _ in range(number_of_tests):\n",
    "#    a = [np.random.choice(df[df.exp_group == 2].ctr) for _ in range(sample_size)]\n",
    "#    b = [np.random.choice(df[df.exp_group == 3].ctr) for _ in range(sample_size)]\n",
    "#    p_value.append(stats.ttest_ind(a, b, equal_var=False))\n",
    "    \n",
    "    p_value.append(stats.ttest_ind(df[df.exp_group == 3].ctr.sample(n = sample_size, replace = True),\n",
    "                                   df[df.exp_group == 2].ctr.sample(n = sample_size, replace = True),\n",
    "                                   equal_var=False))\n"
   ]
  },
  {
   "cell_type": "markdown",
   "id": "f3f4e939-cd77-4e29-bfc0-cd89c3f98e83",
   "metadata": {},
   "source": [
    "Результат тестов p_value преобразуем в DataFrame. Выведем первые 5 строк."
   ]
  },
  {
   "cell_type": "code",
   "execution_count": 6,
   "id": "81939919-e3cb-4102-82de-bc12d62a3dbd",
   "metadata": {},
   "outputs": [
    {
     "data": {
      "text/html": [
       "<div>\n",
       "<style scoped>\n",
       "    .dataframe tbody tr th:only-of-type {\n",
       "        vertical-align: middle;\n",
       "    }\n",
       "\n",
       "    .dataframe tbody tr th {\n",
       "        vertical-align: top;\n",
       "    }\n",
       "\n",
       "    .dataframe thead th {\n",
       "        text-align: right;\n",
       "    }\n",
       "</style>\n",
       "<table border=\"1\" class=\"dataframe\">\n",
       "  <thead>\n",
       "    <tr style=\"text-align: right;\">\n",
       "      <th></th>\n",
       "      <th>statistic</th>\n",
       "      <th>pvalue</th>\n",
       "    </tr>\n",
       "  </thead>\n",
       "  <tbody>\n",
       "    <tr>\n",
       "      <th>0</th>\n",
       "      <td>-0.369226</td>\n",
       "      <td>0.712038</td>\n",
       "    </tr>\n",
       "    <tr>\n",
       "      <th>1</th>\n",
       "      <td>-0.962769</td>\n",
       "      <td>0.335898</td>\n",
       "    </tr>\n",
       "    <tr>\n",
       "      <th>2</th>\n",
       "      <td>0.985201</td>\n",
       "      <td>0.324765</td>\n",
       "    </tr>\n",
       "    <tr>\n",
       "      <th>3</th>\n",
       "      <td>1.762227</td>\n",
       "      <td>0.078338</td>\n",
       "    </tr>\n",
       "    <tr>\n",
       "      <th>4</th>\n",
       "      <td>-0.240904</td>\n",
       "      <td>0.809679</td>\n",
       "    </tr>\n",
       "  </tbody>\n",
       "</table>\n",
       "</div>"
      ],
      "text/plain": [
       "   statistic    pvalue\n",
       "0  -0.369226  0.712038\n",
       "1  -0.962769  0.335898\n",
       "2   0.985201  0.324765\n",
       "3   1.762227  0.078338\n",
       "4  -0.240904  0.809679"
      ]
     },
     "execution_count": 6,
     "metadata": {},
     "output_type": "execute_result"
    }
   ],
   "source": [
    "df_p_value = pd.DataFrame(p_value) #преобразование списка p_value в DataFrame\n",
    "df_p_value.head() #вывод 5 первых строк датафрейма"
   ]
  },
  {
   "cell_type": "markdown",
   "id": "d2b02057-b51e-4775-abc6-5bae706b5630",
   "metadata": {},
   "source": [
    "Построим гистограмму распределения p-value"
   ]
  },
  {
   "cell_type": "code",
   "execution_count": 7,
   "id": "9a724424-89dc-49ee-adfb-5d54377418c0",
   "metadata": {},
   "outputs": [
    {
     "data": {
      "text/plain": [
       "<AxesSubplot:xlabel='pvalue', ylabel='Count'>"
      ]
     },
     "execution_count": 7,
     "metadata": {},
     "output_type": "execute_result"
    },
    {
     "data": {
      "image/png": "[encoded data removed]",
      "text/plain": [
       "<Figure size 842.4x595.44 with 1 Axes>"
      ]
     },
     "metadata": {},
     "output_type": "display_data"
    }
   ],
   "source": [
    "#установка размера гистограммы\n",
    "sns.set(rc={'figure.figsize':(11.7,8.27)})\n",
    "#отрисовка гистограммы распределения p-value\n",
    "sns.histplot(data = df_p_value.pvalue, bins = 100)"
   ]
  },
  {
   "cell_type": "markdown",
   "id": "830473c4-4fcd-4ef2-80ae-a6139ceccc25",
   "metadata": {},
   "source": [
    "Посчитаем, какой процент значений p-value оказался меньше или равен 0.05"
   ]
  },
  {
   "cell_type": "code",
   "execution_count": 8,
   "id": "54113888-d5b8-44d6-bac0-9bbbe9de53e5",
   "metadata": {},
   "outputs": [
    {
     "name": "stdout",
     "output_type": "stream",
     "text": [
      "Процент значений p-value меньших либо равных 0.05 равен 5.54%\n"
     ]
    }
   ],
   "source": [
    "print(f\"Процент значений p-value меньших либо равных 0.05 равен {df_p_value[df_p_value['pvalue']<=0.05]['pvalue'].count()/len(df_p_value.pvalue)*100}%\")"
   ]
  },
  {
   "cell_type": "markdown",
   "id": "78e3ae41-4b40-446d-be1c-5bda7849777a",
   "metadata": {},
   "source": [
    "## Вывод"
   ]
  },
  {
   "cell_type": "markdown",
   "id": "5239272c-5cd3-4894-a5e4-8d91a12d2a43",
   "metadata": {},
   "source": [
    "На гистограмме видно, что значения p-value достаточно равномерно распределены на отрезке от 0 до 1. Процент значений p-value меньших или равных пяти при Т-тесте на подвыборках с повторением примерно равен 5%. При множественном повторении он коблется от 4.6 до 5.7 что можно признать погрешностью вычислений и особенностью хранения в Python чисел с плавающей точкой.\n",
    "\n",
    "В проведенном АА тесте мы отклонили нулевую гипетезу примерно в 5 процентах случаев. Наша система сплитования работает корректно."
   ]
  }
 ],
 "metadata": {
  "kernelspec": {
   "display_name": "Python 3 (ipykernel)",
   "language": "python",
   "name": "python3"
  },
  "language_info": {
   "codemirror_mode": {
    "name": "ipython",
    "version": 3
   },
   "file_extension": ".py",
   "mimetype": "text/x-python",
   "name": "python",
   "nbconvert_exporter": "python",
   "pygments_lexer": "ipython3",
   "version": "3.8.10"
  }
 },
 "nbformat": 4,
 "nbformat_minor": 5
}
